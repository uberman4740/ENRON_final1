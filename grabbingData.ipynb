{
 "cells": [
  {
   "cell_type": "code",
   "execution_count": 125,
   "metadata": {
    "collapsed": true
   },
   "outputs": [],
   "source": [
    "import string\n",
    "import os\n",
    "saraEmailPAth = \"/Users/karansagoo/PycharmProjects/Resume/ENRON_final1/test_email.txt\"\n",
    "\n",
    "\n",
    "# Steps to analyze corupus is \n",
    "# 1. Preprocess corpus \n",
    "# 2. stemmer\n",
    "# 3. TFIF\n",
    "# 4. Vectorize"
   ]
  },
  {
   "cell_type": "code",
   "execution_count": 103,
   "metadata": {},
   "outputs": [],
   "source": [
    ""
   ]
  },
  {
   "cell_type": "code",
   "execution_count": 96,
   "metadata": {},
   "outputs": [
    {
     "name": "stdout",
     "output_type": "stream",
     "text": [
      " hi everyon if you can read this messag your proper use parseouttext pleas proceed to the next part of the project\n"
     ]
    }
   ],
   "source": [
    "text = words.split()\n",
    "# Converting the text to stemmed words\n",
    "from nltk.stem.snowball import SnowballStemmer\n",
    "stemmer = SnowballStemmer(\"english\")\n",
    "temp = \"\"\n",
    "for word in text:\n",
    "    temp = temp + \" \" + stemmer.stem(word)\n",
    "print temp"
   ]
  },
  {
   "cell_type": "code",
   "execution_count": 101,
   "metadata": {},
   "outputs": [
    {
     "name": "stdout",
     "output_type": "stream",
     "text": [
      " hi everyon if you can read this messag your proper use parseouttext pleas proceed to the next part of the project\n"
     ]
    }
   ],
   "source": [
    "def stemText(text):\n",
    "    temp = text.split()\n",
    "    stemmedText = \"\"\n",
    "    stemmer1 = SnowballStemmer(\"english\")\n",
    "    for word in temp:\n",
    "        stemmedText = stemmedText + \" \" + stemmer1.stem(word)\n",
    "    return stemmedText\n",
    "    \n",
    "#TEST\n",
    "# s = \"Hi Everyone  If you can read this message youre properly using parseOutText  Please proceed to the next part of the project\"\n",
    "# print stemText(s)"
   ]
  },
  {
   "cell_type": "code",
   "execution_count": 103,
   "metadata": {},
   "outputs": [
    {
     "name": "stdout",
     "output_type": "stream",
     "text": [
      " hi everyon if you can read this messag your proper use parseouttext pleas proceed to the next part of the project\n"
     ]
    }
   ],
   "source": [
    "def parseOutText(f):\n",
    "    words = \"\"\n",
    "    f.seek(0)\n",
    "    allText = f.read() # reads all the whole text of file\n",
    "    subText = allText.split(\"X-FileName:\") # converts the whole text into a list of lenght 2\n",
    "    a = string.maketrans(\"\", \"\") #removing punctiotion. \n",
    "    text = subText[1].translate(a, string.punctuation)\n",
    "    words = stemText(text)\n",
    "    return words\n",
    "ff = open(saraEmailPAth,\"r\")\n",
    "words = parseOutText(ff)\n",
    "print words"
   ]
  },
  {
   "cell_type": "code",
   "execution_count": 176,
   "metadata": {},
   "outputs": [],
   "source": [
    "# Extracting to and from emails from a person\n",
    "# 1. get file from to and from\n",
    "# 2. read 1. line by line\n",
    "# 2.1 for each line , go to the following directory\n",
    "# 2.2 read 2.1\n",
    "# 2.2 pass parseOutText()\n",
    "maildir_path = \"/Users/karansagoo/Downloads/\"\n",
    "from_sara_path = \"/Users/karansagoo/PycharmProjects/Resume/ENRON_final1/from_sara.txt\" \n",
    "from_chris_path = \"/Users/karansagoo/PycharmProjects/Resume/ENRON_final1/from_chris.txt\" \n",
    "def getEmails(from_person_path, maildir_path): \n",
    "    temp = 0 \n",
    "    emails = []\n",
    "    \n",
    "    from_person = open(from_person_path, \"r\")\n",
    "    \n",
    "    for receviedPerson in from_person:\n",
    "        emailText = []\n",
    "        \n",
    "        \n",
    "        # path = maildirPath + receviedPerson\n",
    "        path = os.path.join(maildir_path,receviedPerson[:-1])\n",
    "        emailPath = open(path, \"r\")\n",
    "        emailText.append(parseOutText(emailPath))\n",
    "        emails.append(emailText)\n",
    "    return emails"
   ]
  },
  {
   "cell_type": "code",
   "execution_count": 179,
   "metadata": {},
   "outputs": [],
   "source": [
    "names = [\"sara\", \"chris\"]\n",
    "from_data = []\n",
    "word_data = []\n",
    "for name in names:\n",
    "    if name == \"sara\":\n",
    "        word_data.append(getEmails(from_sara_path,maildir_path))\n",
    "        from_data.append(0)\n",
    "    if name == \"chris\":\n",
    "        word_data.append(getEmails(from_chris_path, maildir_path))\n",
    "        from_data.append(1)"
   ]
  },
  {
   "cell_type": "code",
   "execution_count": null,
   "metadata": {},
   "outputs": [],
   "source": [
    ""
   ]
  }
 ],
 "metadata": {
  "kernelspec": {
   "display_name": "Python 2",
   "language": "python",
   "name": "python2"
  },
  "language_info": {
   "codemirror_mode": {
    "name": "ipython",
    "version": 2.0
   },
   "file_extension": ".py",
   "mimetype": "text/x-python",
   "name": "python",
   "nbconvert_exporter": "python",
   "pygments_lexer": "ipython2",
   "version": "2.7.6"
  }
 },
 "nbformat": 4,
 "nbformat_minor": 0
}