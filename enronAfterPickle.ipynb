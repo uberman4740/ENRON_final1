{
 "cells": [
  {
   "cell_type": "code",
   "execution_count": 247,
   "metadata": {
    "collapsed": true
   },
   "outputs": [
    {
     "name": "stdout",
     "output_type": "stream",
     "text": [
      "Populating the interactive namespace from numpy and matplotlib\n"
     ]
    }
   ],
   "source": [
    "%pylab inline\n",
    "import pickle\n",
    "\n",
    "import pandas as pd\n",
    "import numpy as np\n",
    "import matplotlib as pl\n",
    "\n",
    "import matplotlib.patches as mpatches\n",
    "import matplotlib.pyplot as plt\n",
    "import seaborn as sns\n",
    "from pylab import fill_between"
   ]
  },
  {
   "cell_type": "code",
   "execution_count": 273,
   "metadata": {},
   "outputs": [
    {
     "data": {
      "text/plain": [
       "<matplotlib.axes._subplots.AxesSubplot at 0x11d4f2d10>"
      ]
     },
     "execution_count": 273,
     "metadata": {},
     "output_type": "execute_result"
    },
    {
     "data": {
      "image/png": "[encoded data removed]",
      "text/plain": [
       "<matplotlib.figure.Figure at 0x117bcffd0>"
      ]
     },
     "metadata": {},
     "output_type": "display_data"
    }
   ],
   "source": [
    "df = pd.read_pickle(\"/Users/karansagoo/PycharmProjects/Resume/ENRON_final1/data/enron_pd.pkl\")\n",
    "df.drop([\"name\",\"email_address\"], axis = 1, inplace = True)\n",
    "cols = df.columns\n",
    "df = df.astype(float)\n",
    "df.plot(x = 'salary', y = 'bonus',kind = 'scatter')"
   ]
  },
  {
   "cell_type": "code",
   "execution_count": 274,
   "metadata": {},
   "outputs": [],
   "source": [
    "allFeatures = ['poi', \n",
    "'bonus','deferral_payments',\n",
    "'deferred_income', 'director_fees','exercised_stock_options','expenses',\n",
    "'from_messages','from_poi_to_this_person','from_this_person_to_poi',\n",
    "'loan_advances','other','restricted_stock','restricted_stock_deferred', 'salary',\n",
    "'shared_receipt_with_poi','to_messages','total_payments','total_stock_value']\n",
    "\n",
    "features_list = [\"deferral_payments\", \n",
    "                  \"restricted_stock_deferred\",\n",
    "                  \"loan_advances\",\n",
    "                  \"director_fees\",\n",
    "                  \"deferred_income\"]\n",
    "\n",
    "a = set(allFeatures)\n",
    "b = set(features_list)\n",
    "\n",
    "features_list = list(a-b)\n",
    "df = df[features_list]\n",
    "\n",
    "df.loc[df.salary > 2.0*1e7]\n",
    "df.drop(104,inplace = True);"
   ]
  },
  {
   "cell_type": "code",
   "execution_count": 249,
   "metadata": {},
   "outputs": [
    {
     "data": {
      "text/plain": [
       "poi                                  0.0\nsalary                        26704229.0\nto_messages                          NaN\ndeferral_payments             32083396.0\ntotal_payments               309886585.0\nexercised_stock_options      311764000.0\nbonus                         97343619.0\nrestricted_stock             130322299.0\nshared_receipt_with_poi              NaN\nrestricted_stock_deferred     -7576788.0\ntotal_stock_value            434509511.0\nexpenses                       5235198.0\nloan_advances                 83925000.0\nfrom_messages                        NaN\nother                         42667589.0\nfrom_this_person_to_poi              NaN\ndirector_fees                  1398517.0\ndeferred_income              -27992891.0\nlong_term_incentive           48521928.0\nfrom_poi_to_this_person              NaN\nName: 104, dtype: float64"
      ]
     },
     "execution_count": 249,
     "metadata": {},
     "output_type": "execute_result"
    }
   ],
   "source": [
    "df.reset_index(drop = True, inplace=True)\n",
    "df.loc[104];\n",
    "# poiSalaryMean = df1[(df1[\"poi\"] == 1) & (df1.salary != \"NaN\")][\"salary\"].mean()\n",
    "# df.set_value(126, 'salary', poiSalaryMean)\n",
    "# df1.loc[126]"
   ]
  },
  {
   "cell_type": "code",
   "execution_count": 275,
   "metadata": {},
   "outputs": [],
   "source": [
    "df.replace(to_replace =\"NaN\" , value = np.nan, inplace = True)"
   ]
  },
  {
   "cell_type": "code",
   "execution_count": 276,
   "metadata": {},
   "outputs": [
    {
     "data": {
      "text/plain": [
       "salary                     51\nto_messages                59\ntotal_payments             21\nbonus                      64\ntotal_stock_value          20\nexpenses                   51\nexercised_stock_options    44\nfrom_messages              59\nother                      53\nfrom_this_person_to_poi    59\npoi                         0\nshared_receipt_with_poi    59\nrestricted_stock           36\nfrom_poi_to_this_person    59\ndtype: int64"
      ]
     },
     "execution_count": 276,
     "metadata": {},
     "output_type": "execute_result"
    }
   ],
   "source": [
    "df.isnull().sum()"
   ]
  },
  {
   "cell_type": "code",
   "execution_count": 181,
   "metadata": {},
   "outputs": [],
   "source": [
    ""
   ]
  },
  {
   "cell_type": "code",
   "execution_count": 279,
   "metadata": {},
   "outputs": [],
   "source": [
    "df.set_value(126,\"bonus\", df[(df[\"poi\"] == 1) & (df.bonus.isnull())][\"salary\"].mean());"
   ]
  },
  {
   "cell_type": "code",
   "execution_count": 280,
   "metadata": {},
   "outputs": [],
   "source": [
    "df1 =df[df.poi == 1][features_list].copy()"
   ]
  },
  {
   "cell_type": "code",
   "execution_count": 281,
   "metadata": {},
   "outputs": [],
   "source": [
    "df1 =df1.fillna(df1.mean(),inplace = True)"
   ]
  },
  {
   "cell_type": "code",
   "execution_count": 282,
   "metadata": {},
   "outputs": [
    {
     "data": {
      "text/plain": [
       "salary                     0\nto_messages                0\ntotal_payments             0\nbonus                      0\ntotal_stock_value          0\nexpenses                   0\nexercised_stock_options    0\nfrom_messages              0\nother                      0\nfrom_this_person_to_poi    0\npoi                        0\nshared_receipt_with_poi    0\nrestricted_stock           0\nfrom_poi_to_this_person    0\ndtype: int64"
      ]
     },
     "execution_count": 282,
     "metadata": {},
     "output_type": "execute_result"
    }
   ],
   "source": [
    "df1.isnull().sum()"
   ]
  },
  {
   "cell_type": "code",
   "execution_count": 286,
   "metadata": {},
   "outputs": [
    {
     "data": {
      "text/plain": [
       "salary                     0\nto_messages                0\ntotal_payments             0\nbonus                      0\ntotal_stock_value          0\nexpenses                   0\nexercised_stock_options    0\nfrom_messages              0\nother                      0\nfrom_this_person_to_poi    0\npoi                        0\nshared_receipt_with_poi    0\nrestricted_stock           0\nfrom_poi_to_this_person    0\ndtype: int64"
      ]
     },
     "execution_count": 286,
     "metadata": {},
     "output_type": "execute_result"
    }
   ],
   "source": [
    "# df4 = pd.merge(df,df1, on = features_list, left_index=True, how = 'outer').copy()\n",
    "# df4[df4.poi == 1][features_list].isnull().sum()\n",
    "df4 = df.copy()\n",
    "df4.fillna(df1,inplace = True)\n",
    "df4[df4.poi == 1][features_list].isnull().sum()\n",
    "df4[df4.poi == 1][features_list].isnull().sum()"
   ]
  },
  {
   "cell_type": "code",
   "execution_count": 290,
   "metadata": {},
   "outputs": [
    {
     "data": {
      "text/plain": [
       "(128, 14)"
      ]
     },
     "execution_count": 290,
     "metadata": {},
     "output_type": "execute_result"
    }
   ],
   "source": [
    "d = df4.copy()\n",
    "d.dropna(thresh = 4, inplace = True)\n",
    "\n",
    "d.shape"
   ]
  },
  {
   "cell_type": "code",
   "execution_count": 291,
   "metadata": {},
   "outputs": [
    {
     "data": {
      "text/plain": [
       "salary                     33\nto_messages                38\ntotal_payments             15\nbonus                      45\ntotal_stock_value           7\nexpenses                   41\nexercised_stock_options    24\nfrom_messages              38\nother                      38\nfrom_this_person_to_poi    38\npoi                         0\nshared_receipt_with_poi    38\nrestricted_stock           20\nfrom_poi_to_this_person    38\ndtype: int64"
      ]
     },
     "execution_count": 291,
     "metadata": {},
     "output_type": "execute_result"
    }
   ],
   "source": [
    "d.isnull().sum()"
   ]
  },
  {
   "cell_type": "code",
   "execution_count": 292,
   "metadata": {},
   "outputs": [],
   "source": [
    "d.fillna(0,inplace = True);"
   ]
  },
  {
   "cell_type": "code",
   "execution_count": 293,
   "metadata": {},
   "outputs": [
    {
     "name": "stdout",
     "output_type": "stream",
     "text": [
      "['salary', 'to_messages', 'total_payments', 'bonus', 'total_stock_value', 'expenses', 'exercised_stock_options', 'from_messages', 'other', 'from_this_person_to_poi', 'poi', 'shared_receipt_with_poi', 'restricted_stock', 'from_poi_to_this_person']\n"
     ]
    }
   ],
   "source": [
    "cols = list (d.columns)\n",
    "print cols"
   ]
  },
  {
   "cell_type": "code",
   "execution_count": 294,
   "metadata": {},
   "outputs": [],
   "source": [
    "cols[0], cols[10] = cols[10], cols[0]"
   ]
  },
  {
   "cell_type": "code",
   "execution_count": 295,
   "metadata": {},
   "outputs": [],
   "source": [
    "dff = d[cols].copy()"
   ]
  },
  {
   "cell_type": "code",
   "execution_count": 301,
   "metadata": {},
   "outputs": [],
   "source": [
    "train_data = dff.values"
   ]
  },
  {
   "cell_type": "code",
   "execution_count": 311,
   "metadata": {},
   "outputs": [],
   "source": [
    "features =train_data[0::,1::]\n",
    "labels = train_data[0::,0]"
   ]
  },
  {
   "cell_type": "code",
   "execution_count": 322,
   "metadata": {},
   "outputs": [
    {
     "name": "stdout",
     "output_type": "stream",
     "text": [
      "Accuracy: 0.807692307692\nPrecision:  0.357142857143\nRecall:  0.833333333333\nDecision Tree algorithm run time:  0.003 s\nFeature Ranking: \n1 feature to_messages (0.444444444444)\n2 feature total_payments (0.249751984127)\n3 feature bonus (0.208581349206)\n4 feature total_stock_value (0.07421875)\n5 feature expenses (0.0230034722222)\n6 feature exercised_stock_options (0.0)\n7 feature from_messages (0.0)\n8 feature other (0.0)\n9 feature from_this_person_to_poi (0.0)\n10 feature poi (0.0)\n11 feature shared_receipt_with_poi (0.0)\n12 feature restricted_stock (0.0)\n13 feature from_poi_to_this_person (0.0)\n"
     ]
    }
   ],
   "source": [
    "from time import time\n",
    "from sklearn.metrics import precision_score\n",
    "from sklearn.metrics import recall_score\n",
    "from sklearn.metrics import f1_score\n",
    "\n",
    "from sklearn.cross_validation import train_test_split\n",
    "\n",
    "\n",
    "# split data inton training and testing\n",
    "features_train, features_test, labels_train, labels_test = train_test_split(features, labels, test_size = 0.4, random_state = 42)\n",
    "\n",
    "\n",
    "# choose decision tree\n",
    "from sklearn.tree import DecisionTreeClassifier\n",
    "t0 = time()\n",
    "clf = DecisionTreeClassifier()\n",
    "clf = clf.fit(features_train, labels_train)\n",
    "pred = clf.predict(features_test)\n",
    "\n",
    "from sklearn.metrics import accuracy_score\n",
    "acc = accuracy_score(labels_test, pred)\n",
    "print 'Accuracy: ' + str(acc)\n",
    "print 'Precision: ', precision_score(labels_test, pred)\n",
    "print 'Recall: ', recall_score(labels_test, pred)\n",
    "print 'Decision Tree algorithm run time: ', round(time()-t0, 3), 's'\n",
    "\n",
    "\n",
    "\n",
    "# list of importance features\n",
    "importances = clf.feature_importances_\n",
    "indices = np.argsort(importances)[::-1]\n",
    "print 'Feature Ranking: '\n",
    "for i in range(13):\n",
    "    print \"{} feature {} ({})\".format(i+1,features_list[i+1],importances[indices[i]])"
   ]
  },
  {
   "cell_type": "code",
   "execution_count": 323,
   "metadata": {},
   "outputs": [
    {
     "name": "stdout",
     "output_type": "stream",
     "text": [
      "Best features:  ['to_messages', 'total_payments', 'bonus', 'total_stock_value', 'expenses', 'other', 'from_this_person_to_poi', 'salary', 'shared_receipt_with_poi', 'restricted_stock']\n"
     ]
    }
   ],
   "source": [
    "from sklearn.cross_validation import train_test_split\n",
    "import numpy as np\n",
    "np.random.seed(42)\n",
    "from sklearn.feature_selection import SelectKBest, f_classif\n",
    "from sklearn.grid_search import GridSearchCV\n",
    "from sklearn.pipeline import Pipeline\n",
    "\n",
    "\n",
    "from sklearn.feature_selection import SelectKBest\n",
    "selector = SelectKBest(k=10)\n",
    "selectedFeatures = selector.fit(features,labels)\n",
    "feature_names = [cols[i] for i in selectedFeatures.get_support(indices=True)]\n",
    "print 'Best features: ', feature_names"
   ]
  },
  {
   "cell_type": "code",
   "execution_count": 325,
   "metadata": {},
   "outputs": [
    {
     "name": "stdout",
     "output_type": "stream",
     "text": [
      "done in 3.184s\nBest estimator found by grid search:\nDecisionTreeClassifier(class_weight=None, criterion='gini', max_depth=2,\n            max_features=4, max_leaf_nodes=None, min_samples_leaf=1,\n            min_samples_split=7, min_weight_fraction_leaf=0.0,\n            presort=False, random_state=None, splitter='best')\n"
     ]
    }
   ],
   "source": [
    "t0 = time()\n",
    "param_grid = {\n",
    "         'min_samples_split': [2, 3, 4, 5, 6, 7, 8],\n",
    "          'max_depth': [1, 2, 3, 4, 5, 6, 7, 8],\n",
    "            'max_features': range(3,10)\n",
    "          }\n",
    "clf = GridSearchCV(DecisionTreeClassifier(), param_grid)\n",
    "clf = clf.fit(features_train, labels_train)\n",
    "print \"done in %0.3fs\" % (time() - t0)\n",
    "print \"Best estimator found by grid search:\"\n",
    "print clf.best_estimator_"
   ]
  },
  {
   "cell_type": "code",
   "execution_count": 327,
   "metadata": {},
   "outputs": [
    {
     "name": "stdout",
     "output_type": "stream",
     "text": [
      "Accuracy: 0.826923076923\nPrecision:  0.333333333333\nRecall:  0.5\nF1 score: 0.4\nDecision Tree algorithm run time:  0.004 s\n"
     ]
    }
   ],
   "source": [
    "from sklearn.tree import DecisionTreeClassifier\n",
    "t0 = time()\n",
    "clf = DecisionTreeClassifier()\n",
    "clf = clf.fit(features_train, labels_train)\n",
    "pred = clf.predict(features_test)\n",
    "\n",
    "from sklearn.metrics import accuracy_score\n",
    "acc = accuracy_score(labels_test, pred)\n",
    "print 'Accuracy: ' + str(acc)\n",
    "print 'Precision: ', precision_score(labels_test, pred)\n",
    "print 'Recall: ', recall_score(labels_test, pred)\n",
    "print 'F1 score:', f1_score(labels_test, pred)\n",
    "print 'Decision Tree algorithm run time: ', round(time()-t0, 3), 's'"
   ]
  },
  {
   "cell_type": "code",
   "execution_count": 330,
   "metadata": {},
   "outputs": [
    {
     "name": "stdout",
     "output_type": "stream",
     "text": [
      "Accuracy: 0.884615384615\nPrecision:  0.5\nRecall:  0.833333333333\nF1 score: 0.625\nLogistic regression algorithm run time:  0.087 s\n"
     ]
    }
   ],
   "source": [
    "from sklearn.linear_model import LogisticRegression\n",
    "t0 = time()\n",
    "clf = LogisticRegression()\n",
    "clf = clf.fit(features_train, labels_train)\n",
    "pred = clf.predict(features_test)\n",
    "from sklearn.metrics import accuracy_score\n",
    "acc = accuracy_score(labels_test, pred)\n",
    "print 'Accuracy: ' + str(acc)\n",
    "print 'Precision: ', precision_score(labels_test, pred)\n",
    "print 'Recall: ', recall_score(labels_test, pred)\n",
    "print 'F1 score:', f1_score(labels_test, pred)\n",
    "print 'Logistic regression algorithm run time: ', round(time()-t0, 3), 's'"
   ]
  },
  {
   "cell_type": "code",
   "execution_count": 333,
   "metadata": {},
   "outputs": [
    {
     "name": "stdout",
     "output_type": "stream",
     "text": [
      "Accuracy: 0.826923076923\nPrecision:  0.333333333333\nRecall:  0.5\nF1 score: 0.4\nSVC algorithm run time:  0.006 s\n"
     ]
    }
   ],
   "source": [
    "from sklearn import svm\n",
    "t0 = time()\n",
    "clf = svm.LinearSVC()\n",
    "clf = clf.fit(features_train, labels_train)\n",
    "pred = clf.predict(features_test)\n",
    "from sklearn.metrics import accuracy_score\n",
    "acc = accuracy_score(labels_test, pred)\n",
    "print 'Accuracy: ' + str(acc)\n",
    "print 'Precision: ', precision_score(labels_test, pred)\n",
    "print 'Recall: ', recall_score(labels_test, pred)\n",
    "print 'F1 score:', f1_score(labels_test, pred)\n",
    "print 'SVC algorithm run time: ', round(time()-t0, 3), 's'"
   ]
  },
  {
   "cell_type": "code",
   "execution_count": 336,
   "metadata": {},
   "outputs": [
    {
     "name": "stdout",
     "output_type": "stream",
     "text": [
      "done in 97.148s\nBest estimator found by grid search:\nLogisticRegression(C=0.001, class_weight=None, dual=False, fit_intercept=True,\n          intercept_scaling=1, max_iter=100, multi_class='ovr', n_jobs=1,\n          penalty='l2', random_state=None, solver='liblinear', tol=0.0001,\n          verbose=0, warm_start=False)\n"
     ]
    }
   ],
   "source": [
    "param_grid = {'C': [0.001, 0.01, 0.1, 1, 10, 100, 1000] }\n",
    "clf = GridSearchCV(LogisticRegression(penalty='l2'), param_grid)\n",
    "clf = clf.fit(features_train, labels_train)\n",
    "print \"done in %0.3fs\" % (time() - t0)\n",
    "print \"Best estimator found by grid search:\"\n",
    "print clf.best_estimator_"
   ]
  },
  {
   "cell_type": "code",
   "execution_count": null,
   "metadata": {},
   "outputs": [],
   "source": [
    "clf = LogisticRegression(C=0.001, class_weight=None, dual=False, fit_intercept=True,\n",
    "          intercept_scaling=1, max_iter=100, multi_class='ovr', n_jobs=1,\n",
    "          penalty='l2', random_state=None, solver='liblinear', tol=0.0001,\n",
    "          verbose=0, warm_start=False)\n",
    "pred = clf.predict(features_test)\n",
    "from sklearn.metrics import accuracy_score\n",
    "acc = accuracy_score(labels_test, pred)\n",
    "print 'Accuracy: ' + str(acc)\n",
    "print 'Precision: ', precision_score(labels_test, pred)\n",
    "print 'Recall: ', recall_score(labels_test, pred)\n",
    "print 'F1 score:', f1_score(labels_test, pred)\n",
    "print 'Logistic regression algorithm run time: ', round(time()-t0, 3), 's'"
   ]
  },
  {
   "cell_type": "code",
   "execution_count": null,
   "outputs": [],
   "source": [
    ""
   ]
  }
 ],
 "metadata": {
  "kernelspec": {
   "display_name": "Python 2",
   "language": "python",
   "name": "python2"
  },
  "language_info": {
   "codemirror_mode": {
    "name": "ipython",
    "version": 2.0
   },
   "file_extension": ".py",
   "mimetype": "text/x-python",
   "name": "python",
   "nbconvert_exporter": "python",
   "pygments_lexer": "ipython2",
   "version": "2.7.6"
  }
 },
 "nbformat": 4,
 "nbformat_minor": 0
}